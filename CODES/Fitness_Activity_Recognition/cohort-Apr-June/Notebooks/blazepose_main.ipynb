{
 "cells": [
  {
   "cell_type": "code",
   "execution_count": 1,
   "id": "ca786eca",
   "metadata": {},
   "outputs": [],
   "source": [
    "import cv2\n",
    "import mediapipe as mp\n",
    "import pandas as pd"
   ]
  },
  {
   "cell_type": "code",
   "execution_count": 2,
   "id": "f9d04c67",
   "metadata": {},
   "outputs": [],
   "source": [
    "mp_drawing = mp.solutions.drawing_utils\n",
    "mp_drawing_styles = mp.solutions.drawing_styles\n",
    "mp_pose = mp.solutions.pose"
   ]
  },
  {
   "cell_type": "markdown",
   "id": "b7774ef9",
   "metadata": {},
   "source": [
    "## Helper Function"
   ]
  },
  {
   "cell_type": "markdown",
   "id": "3e3232a8",
   "metadata": {},
   "source": [
    "create_df creates the dataframe with the features except Action"
   ]
  },
  {
   "cell_type": "code",
   "execution_count": 3,
   "id": "9e4e6404",
   "metadata": {},
   "outputs": [],
   "source": [
    "def create_df(df):\n",
    "    df['video_id'] = 0\n",
    "    df['frame_count'] = 0\n",
    "    df['fps'] = 0\n",
    "    for i in range(99):\n",
    "        df[i] = 0\n",
    "    return df"
   ]
  },
  {
   "cell_type": "markdown",
   "id": "a4197eac",
   "metadata": {},
   "source": [
    "ret_Coord fills out the frame number, video id, and coordinates for each joints of each frame"
   ]
  },
  {
   "cell_type": "code",
   "execution_count": 4,
   "id": "2e5c4926",
   "metadata": {},
   "outputs": [],
   "source": [
    "def ret_Coord(video_id, frame, landmarks):\n",
    "    result = []\n",
    "    result.append(int(video_id)) # video_id\n",
    "    result.append(frame) # frame_count\n",
    "    # fps\n",
    "    result.append(coordinates.iloc[coordinates.loc[coordinates['video_id'] == video_id].index[0]].fps)\n",
    "    for lndmk in landmarks:\n",
    "        result.append(float(str(lndmk).split('\\n')[0].split(':')[1][1:]))\n",
    "        result.append(float(str(lndmk).split('\\n')[1].split(':')[1][1:]))\n",
    "        result.append(float(str(lndmk).split('\\n')[2].split(':')[1][1:]))\n",
    "    return result"
   ]
  },
  {
   "cell_type": "markdown",
   "id": "01009867",
   "metadata": {},
   "source": [
    "mark_false improves performance of the pose estimation by marking the image as not writeable to pass by reference"
   ]
  },
  {
   "cell_type": "code",
   "execution_count": 5,
   "id": "3cd15820",
   "metadata": {},
   "outputs": [],
   "source": [
    "def mark_false(image, pose):\n",
    "    image.flags.writeable = False\n",
    "    image = cv2.cvtColor(image, cv2.COLOR_BGR2RGB)\n",
    "    results = pose.process(image)\n",
    "    return results"
   ]
  },
  {
   "cell_type": "markdown",
   "id": "472eed7a",
   "metadata": {},
   "source": [
    "## Extracting 3D Coordinates"
   ]
  },
  {
   "cell_type": "code",
   "execution_count": 6,
   "id": "9170f4ec",
   "metadata": {},
   "outputs": [],
   "source": [
    "# Necessary to find actions & maintain frames\n",
    "annotated = pd.read_csv(\"annotated.csv\", index_col = 0)\n",
    "coordinates = pd.read_csv(\"coordinates.csv\", index_col = 0)"
   ]
  },
  {
   "cell_type": "code",
   "execution_count": 37,
   "id": "c715c60f",
   "metadata": {},
   "outputs": [],
   "source": [
    "def extract_coordinates(annotated, coordinates):    \n",
    "    # Create our data frames\n",
    "    data = pd.DataFrame()\n",
    "    create_df(data)\n",
    "    data['actions'] = ''\n",
    "    \n",
    "    df = pd.DataFrame()\n",
    "    create_df(df)\n",
    "    \n",
    "    # remove extentions from file names so we do not miss any video for training\n",
    "    for i in annotated['name']:\n",
    "        if i[-4:] == '.avi' or i[-4:] == '.mp4':\n",
    "            annotated = annotated.replace(i,i[:-4])\n",
    "            print(annotated)\n",
    "            \n",
    "    # start reading file names to perform 3D coordinate extraction\n",
    "    import os\n",
    "    \n",
    "    # PLEASE PUT YOUR OWN PATH TO THE FITNESS VIDEOS BELOW -----------------------\n",
    "    path = 'Fitness_videos/'\n",
    "    \n",
    "    \n",
    "    files = os.listdir(path)\n",
    "    for video in files:\n",
    "        video_path = path + str(video)\n",
    "\n",
    "        # Checking if the video name matches with the name in the annotated csv file and gets video id\n",
    "        try:\n",
    "            videoid = int(annotated.loc[annotated['name'] == video[:-4]].video_id)\n",
    "        except:\n",
    "            continue\n",
    "\n",
    "        # Check if the video exists in the dataframe already  \n",
    "        if len(data.loc[data['video_id'] == videoid]) <= 0:\n",
    "            cap = cv2.VideoCapture(video_path)\n",
    "            count = 0\n",
    "            with mp_pose.Pose(\n",
    "                min_detection_confidence=0.3,\n",
    "                min_tracking_confidence=0.3) as pose:\n",
    "                while cap.isOpened():\n",
    "                    success, image = cap.read()\n",
    "                    if not success:\n",
    "                        print(\"Ignoring empty camera frame.\")\n",
    "                        break      \n",
    "                    count += 1\n",
    "                    results = mark_false(image, pose)\n",
    "\n",
    "                    # Check if the coordinate exist for each frame\n",
    "                    if not results.pose_landmarks:\n",
    "                        continue\n",
    "\n",
    "                    df.loc[len(df.index)] = ret_Coord(videoid,count,results.pose_landmarks.landmark)\n",
    "\n",
    "            # Checking the difference of the frames for data from BlazePose and MoveNet                                     \n",
    "\n",
    "            if len(df) > len(coordinates.loc[coordinates['video_id'] == videoid].actions):\n",
    "                diff = len(df)-len(coordinates.loc[coordinates['video_id'] == videoid].actions)\n",
    "                for x in range(1,diff+1):\n",
    "                    df.drop(len(df)-x, inplace=True)\n",
    "                df['actions'] = list(coordinates.loc[coordinates['video_id'] == videoid].actions)\n",
    "                data = pd.concat([data, df], ignore_index = True)\n",
    "\n",
    "            elif len(df) < len(coordinates.loc[coordinates['video_id'] == videoid].actions):\n",
    "                diff = len(coordinates.loc[coordinates['video_id'] == videoid].actions) - len(df)\n",
    "                df['actions'] = list(coordinates.loc[coordinates['video_id'] == videoid].actions)[:-diff]\n",
    "                data = pd.concat([data, df], ignore_index = True)\n",
    "\n",
    "            else:\n",
    "                df['actions'] = list(coordinates.loc[coordinates['video_id'] == videoid].actions)\n",
    "                data = pd.concat([data, df], ignore_index = True)\n",
    "\n",
    "            # Refresh the Dataframe for the new frame \n",
    "            df = pd.DataFrame()\n",
    "            create_df(df)\n",
    "            cap.release()\n",
    "\n",
    "        else:\n",
    "            # When the video is already in the dataset\n",
    "            continue\n",
    "        data.to_csv(\"blazepose_coordinates_main.csv\")"
   ]
  },
  {
   "cell_type": "code",
   "execution_count": null,
   "id": "3bb91d35",
   "metadata": {},
   "outputs": [],
   "source": [
    "extract_coordinates(annotated, coordinates)"
   ]
  },
  {
   "cell_type": "code",
   "execution_count": 7,
   "id": "0d9a131f",
   "metadata": {},
   "outputs": [],
   "source": [
    "# reading csv file for the current blazepose_coordinates \n",
    "data = pd.read_csv(\"blazepose_coordinates_main.csv\", index_col = 0)"
   ]
  },
  {
   "cell_type": "markdown",
   "id": "5dfe5d03",
   "metadata": {},
   "source": [
    "## Data Preprocessing"
   ]
  },
  {
   "cell_type": "code",
   "execution_count": 8,
   "id": "89fa3404",
   "metadata": {},
   "outputs": [],
   "source": [
    "#### NEW CLASSES HERE ####\n",
    "\n",
    "# Excersices can be broadly categorized as: https://www.livestrong.com/article/534321-five-types-of-fitness-training/\n",
    "## High intensity/speed\n",
    "aerobic = ['jump_rope','jumping_jacks','dancing','jumping', 'x_jumps', 'running', 'all_fours_warm_up',\n",
    "  'skii_hops','squat_jumps', 'lateral_squad_jumps','lateral_squat_jumps','lateral_shuffle','walking']\n",
    "\n",
    "coordination_agility = ['agility_feet', 'run_in_place','standing_skips','high_knees', \n",
    "  'mountain_climbers','mountain_climber','boxing','high_knee_sprints','high_knee_sprint', \n",
    "  'burpy_crawl_combo','burpy', 'pace_skips', 'criss_cross','cross_crunches','surfer_hops',\n",
    "  'split_hop','lower_knee_hop'] # Could also fit in as a subclass of aerobic activities\n",
    "# Could maybe also fit in with calisthenics?: 'burpy_crawl_combo','burpy'\n",
    "\n",
    "## NOTE: Uncomment if combining coordination_agility with aerobic\n",
    "# [aerobic.append(item) for item in coordination_agility]\n",
    "\n",
    "## Medium intensity/speed and lifting \n",
    "# each below are subtypes of strength training (can use uniquely or put under strength training)\n",
    "weight_bearing = ['bodyweight_squats','lateral_lunges','lunges','squats','body_weight_squats',\n",
    "  'lateral_squat_walk_reverse_lundge','squat_hold_reverse_lundge','lateral_squat_walk_reverse_lundge',\n",
    "  'body_weight_squat_toes','drop_squats']\n",
    "\n",
    "#non_wieght_bearing = ['torso_up_double_leg_extension', 'hamstring_curl_right','hamstring_curl_left'] # (aka prone strength training)\n",
    "\n",
    "calisthenics = ['knees_to_elbow', 'loaded_beast_push_up','modified_push_ups','crunches','pushups',\n",
    "   'pullups','wall_pushups','pulse_ups_right','pulse_ups_left','straight_left_leg_pulse'] # (bodyweight excersizes)\n",
    "\n",
    "weightlifting = ['bench_press','triceps','donkey_press','front_press','front_up_pulse']\n",
    "\n",
    "## NOTE: Uncomment below if combining above classes into single strength training class\n",
    "# comb_list =[weight_bearing, non_wieght_bearing, calisthenics, weightlifting]\n",
    "# strength_training = [item for sublist in comb_list for item in sublist] # flat strength training list if single class preferred.\n",
    "\n",
    "##### Lower intensity/speed (flexibility, stability) ######\n",
    "balance_stability = ['bear_hold_knee_taps','bear_hold_shoulder_taps','bear_hold',\n",
    "  'fullbody_walkouts', 'lay_down_knees_up', 'lay_down_one_knee_up','lay_down_knee_up_down',\n",
    "  'lay_down_knee_swing_shoulder_blades_up','fire_hydrants','roll_up','alternating_deadbug',\n",
    "  'single_bent_leg_lower','double_bent_leg_lower', 'double_leg_extension', 'upper_body_up_criss_cross',\n",
    "  'bear_hold_taps','bear_crawl','forward_plank','left_side_plank','right_side_plank','arm_plank',\n",
    "  'modified_arm_plank','left_side_plank_reaching','right_side_plank_reaching','kickbacks_right_glute',\n",
    "  'straight_right_leg_pulse','kickbacks_left_glute','hip_bridge','forearm_plank','high_plank',\n",
    "  'high_plank_right_leg_press','push_hip_up_right_leg','push_hip_up_left_leg','high_plank_shoulder_feet_combo',\n",
    "  'straight_leg_lifts','push_hip_up_right_leg_up','hip_up_right_swing_down','push_hip_up_left_leg_up','hip_up_left_swing_down',\n",
    "  'high_plank_left_leg_press','reverse_dog_crunch', 'all_fours_drive','forearm_plank_rocking','upper_body_up_double_leg_extension',\n",
    "  'front_laying_leg_lifts','front_laying_arms_legs_lifts','plank_dynamic','plank_static','side_plank_dynamic','plank']\n",
    "# Could fit in elsewhere also (calisthenics): alternating_deadbug, fire_hydrants, kickbacks_right_glute, \n",
    "\n",
    "flexibility = ['yoga,stretching','streching','yoga,','yoga,ground','yoga,all_four','yoga,standing'\n",
    "  'strech','stretching', 'down_dog','up_dog','runners_lundge_reach','table_top','all_fours',\n",
    "   'knees_to_chest','cat_cow','all_fours_elbow_spine_stretch','up_down_dog']\n",
    "# Could be further split into dynamic and static stretches\n",
    "\n",
    "idle = ['idle','all_fours_idle','standing','standing,talking','talking,walking','talking','standing_idle','standing_writing','walking_idle','kneeling_idle','table_top_position_idle','sitting','sitting_idle' 'laying_flat','laying_down_idle','laydown_faceup','laying_down_face_up','front_laying_position','laying_down_flat','laydown_face_up','laydown_flat','front_laying_idle', 'hanging']\n",
    "doubt = ['transition','glutes','shuffle_position', 'adjusting','pointing']\n",
    "remove = ['slides', 'off_screen', 'slide', 'pointing', 'offscreen','intro_page']"
   ]
  },
  {
   "cell_type": "code",
   "execution_count": 9,
   "id": "33b3db35",
   "metadata": {},
   "outputs": [],
   "source": [
    "def change_actions(x):\n",
    "    if x in aerobic:\n",
    "        return 'aerobic'\n",
    "    elif x in coordination_agility:\n",
    "        return 'coordination_agility'\n",
    "    elif x in weight_bearing:\n",
    "        return 'weight_bearing'\n",
    "    elif x in calisthenics:\n",
    "        return 'calisthenics'\n",
    "    elif x in weightlifting:\n",
    "        return 'weightlifting'\n",
    "    elif x in balance_stability:\n",
    "        return 'balance_stability'\n",
    "    elif x in flexibility:\n",
    "        return 'flexibility'\n",
    "    elif x in remove:\n",
    "        return 'remove'\n",
    "    elif x in doubt:\n",
    "        return \"doubt\"\n",
    "    else:\n",
    "        return 'idle'"
   ]
  },
  {
   "cell_type": "code",
   "execution_count": 10,
   "id": "bc4b5ad2",
   "metadata": {},
   "outputs": [],
   "source": [
    "def preprocess_data(annotated, data):\n",
    "    req = annotated.iloc[:,3:].values.tolist()\n",
    "    flatten = [items for lists in req for items in lists]\n",
    "    flatten = [x for x in flatten if str(x) != 'nan']\n",
    "    count_dict={}\n",
    "    for action in flatten:\n",
    "        if action in count_dict:\n",
    "            count_dict[action]+=1\n",
    "        else:\n",
    "            count_dict[action]=1\n",
    "\n",
    "    count = pd.DataFrame.from_dict(count_dict,orient = 'index')\n",
    "    count.reset_index(inplace=True)\n",
    "    count = count.rename(columns = {'index':'actions'})\n",
    "    count['six_class']= count['actions'].apply(lambda x: change_actions(x))\n",
    "    data['target']= data['actions'].apply(lambda x: change_actions(x))\n",
    "    data.drop(['actions'] ,axis = 1,inplace = True)"
   ]
  },
  {
   "cell_type": "code",
   "execution_count": 11,
   "id": "87c1adc3",
   "metadata": {},
   "outputs": [],
   "source": [
    "preprocess_data(annotated, data)"
   ]
  },
  {
   "cell_type": "markdown",
   "id": "96fba913",
   "metadata": {},
   "source": [
    "## Modelling & Get Result"
   ]
  },
  {
   "cell_type": "code",
   "execution_count": 13,
   "id": "7e9266e2",
   "metadata": {},
   "outputs": [],
   "source": [
    "from matplotlib import pyplot as plt\n",
    "import numpy as np\n",
    "import warnings\n",
    "warnings.filterwarnings('ignore')\n",
    "import seaborn as sns\n",
    "from scipy import stats\n",
    "\n",
    "# Function to return the diffrence in coordinate of xth frame and x+nth frame\n",
    "def data_transform(data, n, step, test =False):  \n",
    "    if test == False:\n",
    "        segments = []\n",
    "        labels = []\n",
    "        video_id = []\n",
    "        for id in data['video_id'].unique():\n",
    "            sub_set = data[data[\"video_id\"] == id]\n",
    "            for i in range(0, sub_set.shape[0] - n, step):\n",
    "                values = ((sub_set.iloc[i+n, 3:102] - sub_set.iloc[i, 3:102]) / sub_set.iloc[i+n, 3:102])\n",
    "                label = stats.mode(sub_set['target'][i: i+n])[0][0]\n",
    "                segments.append([values.append(sub_set.iloc[i+n, 3:102])])\n",
    "                labels.append(label)\n",
    "        reshaped_segments = np.asarray(segments, dtype = np.float32).reshape(-n,198)\n",
    "        df = pd.DataFrame(reshaped_segments)\n",
    "        df['target'] = labels       \n",
    "        return(df)       \n",
    "    else:\n",
    "        segments = []\n",
    "        data = pd.DataFrame(points) \n",
    "        for i in range(0, data.shape[0] - n, step):\n",
    "            values = ((data.iloc[i+n, :] - data.iloc[i, :]) / data.iloc[i+n, :])\n",
    "            segments.append([values.append(data.iloc[i+n, :])])\n",
    "        reshaped_segments = np.asarray(segments, dtype = np.float32).reshape(-n,198)\n",
    "        return(reshaped_segments)"
   ]
  },
  {
   "cell_type": "code",
   "execution_count": 14,
   "id": "511381ad",
   "metadata": {},
   "outputs": [],
   "source": [
    "from sklearn.ensemble import ExtraTreesClassifier\n",
    "from sklearn.model_selection import train_test_split\n",
    "from sklearn.preprocessing import LabelEncoder\n",
    "from sklearn.metrics import roc_auc_score, accuracy_score\n",
    "from sklearn.metrics import confusion_matrix, classification_report, f1_score, recall_score, precision_score\n",
    "def run_extratrees(data):\n",
    "    # running the data_transform function(feature engineering)\n",
    "    data_transformed = data_transform(data, 3, 3)\n",
    "    remove_from_target = ['doubt', 'remove']\n",
    "    data_transformed = data_transformed[~data_transformed['target'].isin(remove_from_target)]\n",
    "    # choose X and y\n",
    "    X = data_transformed.iloc[:,:-1]\n",
    "    y = data_transformed['target']\n",
    "    # changing the target value to numeric value to fit the data\n",
    "    le = LabelEncoder()\n",
    "    le.fit(y)\n",
    "    y = le.transform(y)\n",
    "    # split the data into train and test data\n",
    "    X_train, X_test, y_train, y_test = train_test_split(X, y, stratify=y, test_size=0.25, shuffle  = True)\n",
    "    #run extratrees with n_estimators = 500\n",
    "    clf_extra = ExtraTreesClassifier(n_estimators = 500, random_state=42)\n",
    "    clf_extra.fit(X_train, y_train)\n",
    "    \n",
    "    predictions  = clf_extra.predict(X_test) \n",
    "    preds_probs = clf_extra.predict_proba(X_test)\n",
    "    # evaluate predictions\n",
    "    accuracy = accuracy_score(y_test, predictions)\n",
    "    f1 = f1_score(y_test, predictions, average='macro')\n",
    "    precision = precision_score(y_test, predictions,average = 'micro', pos_label=1)\n",
    "    recall = recall_score(y_test, predictions,average = 'micro', pos_label=1)\n",
    "    print(\"ACCURACY PER INSTANCE:\" ,accuracy)\n",
    "    print(\"F1_score:\" ,f1)\n",
    "    print(\"Precision:\", precision)\n",
    "    print(\"Recall:\",recall)  \n",
    "    (unique,count) = np.unique(y_train, return_counts=True)\n",
    "    class_labels = unique\n",
    "    plt.figure(figsize = (16,6))\n",
    "    sns.heatmap(pd.DataFrame(confusion_matrix(y_test , predictions)),annot=True, fmt=\"d\",\n",
    "                xticklabels = class_labels, yticklabels = class_labels)\n",
    "    plt.xlabel('Predictions', fontsize=18)\n",
    "    plt.ylabel('Actuals', fontsize=18)\n",
    "    plt.title('Confusion Matrix', fontsize=18)\n",
    "    print(classification_report(y_test, predictions))\n",
    "    plt.show()"
   ]
  },
  {
   "cell_type": "code",
   "execution_count": 15,
   "id": "03c1db43",
   "metadata": {},
   "outputs": [
    {
     "name": "stdout",
     "output_type": "stream",
     "text": [
      "ACCURACY PER INSTANCE: 0.9795632442968965\n",
      "F1_score: 0.9763796525086299\n",
      "Precision: 0.9795632442968965\n",
      "Recall: 0.9795632442968965\n",
      "              precision    recall  f1-score   support\n",
      "\n",
      "           0       0.97      0.95      0.96      1888\n",
      "           1       0.99      0.99      0.99      7650\n",
      "           2       0.99      0.99      0.99      4271\n",
      "           3       0.97      0.97      0.97      4423\n",
      "           4       0.99      0.99      0.99      5887\n",
      "           5       0.96      0.96      0.96      4425\n",
      "           6       0.97      0.98      0.98      3386\n",
      "           7       0.99      0.96      0.98       903\n",
      "\n",
      "    accuracy                           0.98     32833\n",
      "   macro avg       0.98      0.97      0.98     32833\n",
      "weighted avg       0.98      0.98      0.98     32833\n",
      "\n"
     ]
    },
    {
     "data": {
      "image/png": "[encoded data removed]",
      "text/plain": [
       "<Figure size 1152x432 with 2 Axes>"
      ]
     },
     "metadata": {
      "needs_background": "light"
     },
     "output_type": "display_data"
    }
   ],
   "source": [
    "run_extratrees(data)"
   ]
  }
 ],
 "metadata": {
  "kernelspec": {
   "display_name": "Python 3 (ipykernel)",
   "language": "python",
   "name": "python3"
  },
  "language_info": {
   "codemirror_mode": {
    "name": "ipython",
    "version": 3
   },
   "file_extension": ".py",
   "mimetype": "text/x-python",
   "name": "python",
   "nbconvert_exporter": "python",
   "pygments_lexer": "ipython3",
   "version": "3.7.8"
  }
 },
 "nbformat": 4,
 "nbformat_minor": 5
}
